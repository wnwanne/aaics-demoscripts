{
 "cells": [
  {
   "cell_type": "code",
   "execution_count": 1,
   "metadata": {},
   "outputs": [
    {
     "name": "stdout",
     "output_type": "stream",
     "text": [
      "Collecting azure-ai-contentsafety\n",
      "  Downloading azure_ai_contentsafety-1.0.0-py3-none-any.whl.metadata (30 kB)\n",
      "Requirement already satisfied: isodate<1.0.0,>=0.6.1 in c:\\users\\wnwanne\\appdata\\local\\packages\\pythonsoftwarefoundation.python.3.11_qbz5n2kfra8p0\\localcache\\local-packages\\python311\\site-packages (from azure-ai-contentsafety) (0.6.1)\n",
      "Requirement already satisfied: azure-core<2.0.0,>=1.28.0 in c:\\users\\wnwanne\\appdata\\local\\packages\\pythonsoftwarefoundation.python.3.11_qbz5n2kfra8p0\\localcache\\local-packages\\python311\\site-packages (from azure-ai-contentsafety) (1.29.5)\n",
      "Requirement already satisfied: requests>=2.18.4 in c:\\users\\wnwanne\\appdata\\local\\packages\\pythonsoftwarefoundation.python.3.11_qbz5n2kfra8p0\\localcache\\local-packages\\python311\\site-packages (from azure-core<2.0.0,>=1.28.0->azure-ai-contentsafety) (2.31.0)\n",
      "Requirement already satisfied: six>=1.11.0 in c:\\users\\wnwanne\\appdata\\local\\packages\\pythonsoftwarefoundation.python.3.11_qbz5n2kfra8p0\\localcache\\local-packages\\python311\\site-packages (from azure-core<2.0.0,>=1.28.0->azure-ai-contentsafety) (1.16.0)\n",
      "Requirement already satisfied: typing-extensions>=4.6.0 in c:\\users\\wnwanne\\appdata\\local\\packages\\pythonsoftwarefoundation.python.3.11_qbz5n2kfra8p0\\localcache\\local-packages\\python311\\site-packages (from azure-core<2.0.0,>=1.28.0->azure-ai-contentsafety) (4.8.0)\n",
      "Requirement already satisfied: charset-normalizer<4,>=2 in c:\\users\\wnwanne\\appdata\\local\\packages\\pythonsoftwarefoundation.python.3.11_qbz5n2kfra8p0\\localcache\\local-packages\\python311\\site-packages (from requests>=2.18.4->azure-core<2.0.0,>=1.28.0->azure-ai-contentsafety) (3.3.2)\n",
      "Requirement already satisfied: idna<4,>=2.5 in c:\\users\\wnwanne\\appdata\\local\\packages\\pythonsoftwarefoundation.python.3.11_qbz5n2kfra8p0\\localcache\\local-packages\\python311\\site-packages (from requests>=2.18.4->azure-core<2.0.0,>=1.28.0->azure-ai-contentsafety) (3.6)\n",
      "Requirement already satisfied: urllib3<3,>=1.21.1 in c:\\users\\wnwanne\\appdata\\local\\packages\\pythonsoftwarefoundation.python.3.11_qbz5n2kfra8p0\\localcache\\local-packages\\python311\\site-packages (from requests>=2.18.4->azure-core<2.0.0,>=1.28.0->azure-ai-contentsafety) (2.1.0)\n",
      "Requirement already satisfied: certifi>=2017.4.17 in c:\\users\\wnwanne\\appdata\\local\\packages\\pythonsoftwarefoundation.python.3.11_qbz5n2kfra8p0\\localcache\\local-packages\\python311\\site-packages (from requests>=2.18.4->azure-core<2.0.0,>=1.28.0->azure-ai-contentsafety) (2023.11.17)\n",
      "Downloading azure_ai_contentsafety-1.0.0-py3-none-any.whl (61 kB)\n",
      "   ---------------------------------------- 0.0/61.3 kB ? eta -:--:--\n",
      "   --------------------------------- ------ 51.2/61.3 kB 1.3 MB/s eta 0:00:01\n",
      "   ---------------------------------------- 61.3/61.3 kB 1.6 MB/s eta 0:00:00\n",
      "Installing collected packages: azure-ai-contentsafety\n",
      "Successfully installed azure-ai-contentsafety-1.0.0\n"
     ]
    },
    {
     "name": "stderr",
     "output_type": "stream",
     "text": [
      "\n",
      "[notice] A new release of pip is available: 24.0 -> 24.1.1\n",
      "[notice] To update, run: C:\\Users\\wnwanne\\AppData\\Local\\Microsoft\\WindowsApps\\PythonSoftwareFoundation.Python.3.11_qbz5n2kfra8p0\\python.exe -m pip install --upgrade pip\n"
     ]
    }
   ],
   "source": [
    "! pip install azure-ai-contentsafety"
   ]
  },
  {
   "cell_type": "code",
   "execution_count": 15,
   "metadata": {},
   "outputs": [],
   "source": [
    "import os\n",
    "from azure.core.credentials import AzureKeyCredential\n",
    "from azure.ai.contentsafety import ContentSafetyClient, BlocklistClient\n",
    "from azure.ai.contentsafety import ContentSafetyClient\n",
    "from azure.ai.contentsafety.models import TextCategory\n",
    "from azure.ai.contentsafety.models import AddOrUpdateTextBlocklistItemsOptions, TextBlocklistItem\n",
    "from azure.core.credentials import AzureKeyCredential\n",
    "from azure.ai.contentsafety.models import TextBlocklist\n",
    "from azure.core.exceptions import HttpResponseError\n",
    "from azure.ai.contentsafety.models import AnalyzeTextOptions"
   ]
  },
  {
   "cell_type": "code",
   "execution_count": null,
   "metadata": {},
   "outputs": [],
   "source": [
    "endpoint = \"https://<resource-name>.cognitiveservices.azure.com/\"\n",
    "credential = AzureKeyCredential(\"\")\n",
    "content_safety_client = ContentSafetyClient(endpoint, credential)\n",
    "blocklist_client = BlocklistClient(endpoint, credential)"
   ]
  },
  {
   "cell_type": "markdown",
   "metadata": {},
   "source": [
    "## Analyze Text"
   ]
  },
  {
   "cell_type": "code",
   "execution_count": 6,
   "metadata": {},
   "outputs": [
    {
     "name": "stdout",
     "output_type": "stream",
     "text": [
      "Hate severity: 2\n",
      "Hate severity: {'category': 'Hate', 'severity': 2}\n",
      "SelfHarm severity: 0\n",
      "Sexual severity: 0\n",
      "Violence severity: 0\n"
     ]
    }
   ],
   "source": [
    "# Create a Content Safety client\n",
    "client = ContentSafetyClient(endpoint, credential)\n",
    "\n",
    "# Construct a request\n",
    "request = AnalyzeTextOptions(text=\"You are an idiot\")\n",
    "\n",
    "# Analyze text\n",
    "try:\n",
    "    response = client.analyze_text(request)\n",
    "except HttpResponseError as e:\n",
    "    print(\"Analyze text failed.\")\n",
    "    if e.error:\n",
    "        print(f\"Error code: {e.error.code}\")\n",
    "        print(f\"Error message: {e.error.message}\")\n",
    "        raise\n",
    "    print(e)\n",
    "    raise\n",
    "\n",
    "hate_result = next(item for item in response.categories_analysis if item.category == TextCategory.HATE)\n",
    "self_harm_result = next(item for item in response.categories_analysis if item.category == TextCategory.SELF_HARM)\n",
    "sexual_result = next(item for item in response.categories_analysis if item.category == TextCategory.SEXUAL)\n",
    "violence_result = next(item for item in response.categories_analysis if item.category == TextCategory.VIOLENCE)\n",
    "\n",
    "if hate_result:\n",
    "    print(f\"Hate severity: {hate_result.severity}\")\n",
    "    print(f\"Hate severity: {hate_result}\")\n",
    "if self_harm_result:\n",
    "    print(f\"SelfHarm severity: {self_harm_result.severity}\")\n",
    "if sexual_result:\n",
    "    print(f\"Sexual severity: {sexual_result.severity}\")\n",
    "if violence_result:\n",
    "    print(f\"Violence severity: {violence_result.severity}\")"
   ]
  },
  {
   "cell_type": "markdown",
   "metadata": {},
   "source": [
    "## Analyze Text w/ Blocklist"
   ]
  },
  {
   "cell_type": "code",
   "execution_count": 10,
   "metadata": {},
   "outputs": [
    {
     "name": "stdout",
     "output_type": "stream",
     "text": [
      "\n",
      "Blocklist created or updated: \n",
      "Name: TestBlocklist, Description: Test blocklist management.\n"
     ]
    }
   ],
   "source": [
    "# Create a Blocklist client\n",
    "blocklist_client = BlocklistClient(endpoint, credential)\n",
    "\n",
    "blocklist_name = \"TestBlocklist\"\n",
    "blocklist_description = \"Test blocklist management.\"\n",
    "\n",
    "try:\n",
    "    blocklist = blocklist_client.create_or_update_text_blocklist(\n",
    "        blocklist_name=blocklist_name,\n",
    "        options=TextBlocklist(blocklist_name=blocklist_name, description=blocklist_description),\n",
    "    )\n",
    "    if blocklist:\n",
    "        print(\"\\nBlocklist created or updated: \")\n",
    "        print(f\"Name: {blocklist.blocklist_name}, Description: {blocklist.description}\")\n",
    "except HttpResponseError as e:\n",
    "    print(\"\\nCreate or update text blocklist failed: \")\n",
    "    if e.error:\n",
    "        print(f\"Error code: {e.error.code}\")\n",
    "        print(f\"Error message: {e.error.message}\")\n",
    "        raise\n",
    "    print(e)\n",
    "    raise"
   ]
  },
  {
   "cell_type": "code",
   "execution_count": 16,
   "metadata": {},
   "outputs": [
    {
     "name": "stdout",
     "output_type": "stream",
     "text": [
      "BlockItemId: 75b81bdc-a6be-4178-8d6c-889c92523ea7, Text: kill, Description: None\n",
      "BlockItemId: f1cf06f2-e750-420f-9d46-8dc057b4b9ff, Text: hate, Description: None\n"
     ]
    }
   ],
   "source": [
    "# add block items\n",
    "blocklist_client = BlocklistClient(endpoint, credential)\n",
    "\n",
    "block_item_text_1 = \"kill\"\n",
    "block_item_text_2 = \"hate\"\n",
    "\n",
    "block_items = [TextBlocklistItem(text=block_item_text_1), TextBlocklistItem(text=block_item_text_2)]\n",
    "try:\n",
    "    result = blocklist_client.add_or_update_blocklist_items(\n",
    "        blocklist_name=blocklist_name, options=AddOrUpdateTextBlocklistItemsOptions(blocklist_items=block_items)\n",
    "    )\n",
    "    for block_item in result.blocklist_items:\n",
    "        print(\n",
    "            f\"BlockItemId: {block_item.blocklist_item_id}, Text: {block_item.text}, Description: {block_item.description}\"\n",
    "        )\n",
    "except HttpResponseError as e:\n",
    "    print(\"\\nAdd block items failed: \")\n",
    "    if e.error:\n",
    "        print(f\"Error code: {e.error.code}\")\n",
    "        print(f\"Error message: {e.error.message}\")\n",
    "        raise\n",
    "    print(e)\n",
    "    raise"
   ]
  },
  {
   "cell_type": "code",
   "execution_count": 18,
   "metadata": {},
   "outputs": [
    {
     "name": "stdout",
     "output_type": "stream",
     "text": [
      "\n",
      "Blocklist match results: \n",
      "BlocklistName: TestBlocklist, BlockItemId: f1cf06f2-e750-420f-9d46-8dc057b4b9ff, BlockItemText: hate\n",
      "BlocklistName: TestBlocklist, BlockItemId: 75b81bdc-a6be-4178-8d6c-889c92523ea7, BlockItemText: kill\n"
     ]
    }
   ],
   "source": [
    "blocklist_name = \"TestBlocklist\"\n",
    "input_text = \"I hate you and I want to kill you.\"\n",
    "\n",
    "try:\n",
    "    # After you edit your blocklist, it usually takes effect in 5 minutes, please wait some time before analyzing with blocklist after editing.\n",
    "    analysis_result = client.analyze_text(\n",
    "        AnalyzeTextOptions(text=input_text, blocklist_names=[blocklist_name], halt_on_blocklist_hit=False)\n",
    "    )\n",
    "    if analysis_result and analysis_result.blocklists_match:\n",
    "        print(\"\\nBlocklist match results: \")\n",
    "        for match_result in analysis_result.blocklists_match:\n",
    "            print(\n",
    "                f\"BlocklistName: {match_result.blocklist_name}, BlockItemId: {match_result.blocklist_item_id}, \"\n",
    "                f\"BlockItemText: {match_result.blocklist_item_text}\"\n",
    "            )\n",
    "except HttpResponseError as e:\n",
    "    print(\"\\nAnalyze text failed: \")\n",
    "    if e.error:\n",
    "        print(f\"Error code: {e.error.code}\")\n",
    "        print(f\"Error message: {e.error.message}\")\n",
    "        raise\n",
    "    print(e)\n",
    "    raise"
   ]
  }
 ],
 "metadata": {
  "kernelspec": {
   "display_name": "Python 3",
   "language": "python",
   "name": "python3"
  },
  "language_info": {
   "codemirror_mode": {
    "name": "ipython",
    "version": 3
   },
   "file_extension": ".py",
   "mimetype": "text/x-python",
   "name": "python",
   "nbconvert_exporter": "python",
   "pygments_lexer": "ipython3",
   "version": "3.11.9"
  }
 },
 "nbformat": 4,
 "nbformat_minor": 2
}
