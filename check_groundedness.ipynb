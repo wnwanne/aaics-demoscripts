{
 "cells": [
  {
   "cell_type": "code",
   "execution_count": null,
   "metadata": {},
   "outputs": [],
   "source": [
    "## https://learn.microsoft.com/en-us/azure/ai-services/content-safety/quickstart-groundedness?tabs=python"
   ]
  },
  {
   "cell_type": "markdown",
   "metadata": {},
   "source": [
    "## Without Reasoning"
   ]
  },
  {
   "cell_type": "code",
   "execution_count": 15,
   "metadata": {},
   "outputs": [
    {
     "name": "stdout",
     "output_type": "stream",
     "text": [
      "{\"ungroundedDetected\":true,\"ungroundedPercentage\":0.7,\"ungroundedDetails\":[{\"text\":\"I'm 24 years old and I need to make a decision about the next 5 years of my life.\",\"offset\":{\"utf8\":0,\"utf16\":0,\"codePoint\":0},\"length\":{\"utf8\":81,\"utf16\":81,\"codePoint\":81}},{\"text\":\"IF they aren't met 2 times (2 months) you're canned.\",\"offset\":{\"utf8\":167,\"utf16\":167,\"codePoint\":167},\"length\":{\"utf8\":52,\"utf16\":52,\"codePoint\":52}},{\"text\":\"They pay me 10/hour and it's not unheard of to get a raise in 6ish months.\",\"offset\":{\"utf8\":220,\"utf16\":220,\"codePoint\":220},\"length\":{\"utf8\":74,\"utf16\":74,\"codePoint\":74}}]}\n"
     ]
    }
   ],
   "source": [
    "import http.client\n",
    "import json\n",
    "\n",
    "key = 'a06d000f02e5443b95edb6cda45a67c8'\n",
    "endpoint = 'demo-content-safety-winnie.cognitiveservices.azure.com'\n",
    "\n",
    "# Create a connection to the host\n",
    "conn = http.client.HTTPSConnection(endpoint)\n",
    "\n",
    "# JSON payload remains the same\n",
    "payload = json.dumps({\n",
    "  \"domain\": \"Generic\",\n",
    "  \"task\": \"QnA\",\n",
    "  \"qna\": {\n",
    "    \"query\": \"How much does she currently get paid per hour at the bank?\"\n",
    "  },\n",
    "  \"text\": \"I'm 24 years old and I need to make a decision about the next 5 years of my life. Within a week. I currently work for a bank that requires strict sales goals to meet. IF they aren't met 2 times (2 months) you're canned. They pay me 10/hour and it's not unheard of to get a raise in 6ish months.\",\n",
    "  \"groundingSources\": [\n",
    "    \"I'm 21 years old and I need to make a decision about the next two years of my life. Within a week. I currently work for a bank that requires strict sales goals to meet. IF they aren't met three times (three months) you're canned. They pay me 12/hour and it's not unheard of to get a raise in 6ish months. The issue is, **I'm not a salesperson**. That's not my personality. I'm amazing at customer service, I have the most positive customer service \\\"reports\\\" done about me in the short time I've worked here. A coworker asked \\\"do you ask for people to fill these out? you have a ton\\\". That being said, I have a job opportunity at Chase Bank as a part time teller. What makes this decision so hard is that at my current job, I get 40 hours and Chase could only offer me 20 hours/week. Drive time to my current job is also 21 miles **one way** while Chase is literally 1.8 miles from my house, allowing me to go home for lunch. I do have an apartment and an awesome roommate that I know wont be late on his portion of rent, so paying bills with 20hours a week isn't the issue. It's the spending money and being broke all the time.\\n\\nI previously worked at Wal-Mart and took home just about 400 dollars every other week. So I know i can survive on this income. I just don't know whether I should go for Chase as I could definitely see myself having a career there. I'm a math major likely going to become an actuary, so Chase could provide excellent opportunities for me **eventually**.\"\n",
    "  ],\n",
    "  \"reasoning\": False\n",
    "})\n",
    "\n",
    "headers = {\n",
    "  'Ocp-Apim-Subscription-Key': key,  # Use the actual key variable here\n",
    "  'Content-Type': 'application/json'\n",
    "}\n",
    "\n",
    "# Specify the full path including the query parameters in the request method\n",
    "conn.request(\"POST\", \"/contentsafety/text:detectGroundedness?api-version=2024-02-15-preview\", payload, headers)\n",
    "\n",
    "res = conn.getresponse()\n",
    "data = res.read()\n",
    "print(data.decode(\"utf-8\"))"
   ]
  },
  {
   "cell_type": "markdown",
   "metadata": {},
   "source": [
    "## With Reasoning"
   ]
  },
  {
   "cell_type": "code",
   "execution_count": 24,
   "metadata": {},
   "outputs": [
    {
     "name": "stdout",
     "output_type": "stream",
     "text": [
      "{\"ungroundedDetected\":true,\"ungroundedPercentage\":0.7,\"ungroundedDetails\":[{\"text\":\"I'm 24 years old and I need to make a decision about the next 5 years of my life.\",\"offset\":{\"utf8\":0,\"utf16\":0,\"codePoint\":0},\"length\":{\"utf8\":81,\"utf16\":81,\"codePoint\":81},\"reason\":\"\\\"I'm 21 years old and I need to make a decision about the next two years of my life.\\\" The age and time span are both incorrect. \"},{\"text\":\"IF they aren't met 2 times (2 months) you're canned.\",\"offset\":{\"utf8\":167,\"utf16\":167,\"codePoint\":167},\"length\":{\"utf8\":52,\"utf16\":52,\"codePoint\":52},\"reason\":\"\\\"IF they aren't met three times (three months) you're canned.\\\" The numbers are incorrect. \"},{\"text\":\"They pay me 10/hour and it's not unheard of to get a raise in 6ish months.\",\"offset\":{\"utf8\":220,\"utf16\":220,\"codePoint\":220},\"length\":{\"utf8\":74,\"utf16\":74,\"codePoint\":74},\"reason\":\"\\\"They pay me 12/hour and it's not unheard of to get a raise in 6ish months.\\\" The pay rate is incorrect. \"}]}\n"
     ]
    }
   ],
   "source": [
    "import http.client\n",
    "import json\n",
    "\n",
    "key = 'a06d000f02e5443b95edb6cda45a67c8'\n",
    "endpoint = 'demo-content-safety-winnie.cognitiveservices.azure.com'\n",
    "\n",
    "# Create a connection to the host\n",
    "conn = http.client.HTTPSConnection(endpoint)\n",
    "\n",
    "# JSON payload remains the same\n",
    "payload = json.dumps({\n",
    "  \"domain\": \"Generic\",\n",
    "  \"task\": \"QnA\",\n",
    "  \"qna\": {\n",
    "    \"query\": \"How much does she currently get paid per hour at the bank?\"\n",
    "  },\n",
    "  \"text\": \"I'm 24 years old and I need to make a decision about the next 5 years of my life. Within a week. I currently work for a bank that requires strict sales goals to meet. IF they aren't met 2 times (2 months) you're canned. They pay me 10/hour and it's not unheard of to get a raise in 6ish months.\",\n",
    "  \"groundingSources\": [\n",
    "    \"I'm 21 years old and I need to make a decision about the next two years of my life. Within a week. I currently work for a bank that requires strict sales goals to meet. IF they aren't met three times (three months) you're canned. They pay me 12/hour and it's not unheard of to get a raise in 6ish months. The issue is, **I'm not a salesperson**. That's not my personality. I'm amazing at customer service, I have the most positive customer service \\\"reports\\\" done about me in the short time I've worked here. A coworker asked \\\"do you ask for people to fill these out? you have a ton\\\". That being said, I have a job opportunity at Chase Bank as a part time teller. What makes this decision so hard is that at my current job, I get 40 hours and Chase could only offer me 20 hours/week. Drive time to my current job is also 21 miles **one way** while Chase is literally 1.8 miles from my house, allowing me to go home for lunch. I do have an apartment and an awesome roommate that I know wont be late on his portion of rent, so paying bills with 20hours a week isn't the issue. It's the spending money and being broke all the time.\\n\\nI previously worked at Wal-Mart and took home just about 400 dollars every other week. So I know i can survive on this income. I just don't know whether I should go for Chase as I could definitely see myself having a career there. I'm a math major likely going to become an actuary, so Chase could provide excellent opportunities for me **eventually**.\"\n",
    "  ],\n",
    "  \"reasoning\": True,\n",
    "  \"llmResource\": {\n",
    "   \"resourceType\": \"AzureOpenAI\",\n",
    "   \"azureOpenAIEndpoint\": \"https://swed-aoai.openai.azure.com/\",\n",
    "   \"azureOpenAIDeploymentName\": \"gpt-4-1106-preview\"\n",
    "  }\n",
    "})\n",
    "\n",
    "headers = {\n",
    "  'Ocp-Apim-Subscription-Key': key,  # Use the actual key variable here\n",
    "  'Content-Type': 'application/json'\n",
    "}\n",
    "\n",
    "# Specify the full path including the query parameters in the request method\n",
    "conn.request(\"POST\", \"/contentsafety/text:detectGroundedness?api-version=2024-02-15-preview\", payload, headers)\n",
    "\n",
    "res = conn.getresponse()\n",
    "data = res.read()\n",
    "print(data.decode(\"utf-8\"))"
   ]
  }
 ],
 "metadata": {
  "kernelspec": {
   "display_name": "Python 3",
   "language": "python",
   "name": "python3"
  },
  "language_info": {
   "codemirror_mode": {
    "name": "ipython",
    "version": 3
   },
   "file_extension": ".py",
   "mimetype": "text/x-python",
   "name": "python",
   "nbconvert_exporter": "python",
   "pygments_lexer": "ipython3",
   "version": "3.11.9"
  }
 },
 "nbformat": 4,
 "nbformat_minor": 2
}
